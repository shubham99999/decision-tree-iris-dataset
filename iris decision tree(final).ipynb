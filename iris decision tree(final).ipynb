{
 "cells": [
  {
   "cell_type": "code",
   "execution_count": 1,
   "metadata": {
    "collapsed": true
   },
   "outputs": [],
   "source": [
    " # this code consists of actual tree implementation also using OOP\n",
    " # gini was used as a parameter , not entropy .  \n",
    " # iris dataset from sklearn was used\n",
    " # since iris dataset consists of continuous values, i categorised its values according to a range\n",
    " # concatenated iris.data and iris.target into a single dataset\n",
    " "
   ]
  },
  {
   "cell_type": "code",
   "execution_count": 2,
   "metadata": {},
   "outputs": [],
   "source": [
    "from sklearn import datasets\n",
    "iris=datasets.load_iris()\n",
    "#converting continuous data into categorical data by dividing continuous data in various classes\n",
    "for i in range(0,4):\n",
    "    mean1=iris.data[:,i].mean()\n",
    "    max1=iris.data[:,i].max()\n",
    "    min1=iris.data[:,i].min()\n",
    "    \n",
    "    for j in range(0,150):\n",
    "       \n",
    "\n",
    "        if iris.data[j,i]<=min1+(mean1-min1)/2:\n",
    "            iris.data[j,i]=min1\n",
    "        elif iris.data[j,i]>min1+(mean1-min1)/2 and iris.data[j,i]<mean1:\n",
    "            iris.data[j,i]=min1+ (mean1-min1)/2\n",
    "        elif iris.data[j,i]>=mean1 and iris.data[j,i]<mean1+(max1-mean1)/2:\n",
    "            iris.data[j,i]=mean1\n",
    "        elif iris.data[j,i]>=mean1+(max1-mean1)/2 and iris.data[j,i]<=max1:\n",
    "            iris.data[j,i]=mean1+(max1-mean1)/2  \n",
    "\n",
    "iris.data \n",
    "\n",
    "irisX=iris.data\n",
    "    "
   ]
  },
  {
   "cell_type": "code",
   "execution_count": 3,
   "metadata": {},
   "outputs": [
    {
     "data": {
      "text/plain": [
       "array([[ 5.07166667,  3.054     ,  1.        ,  0.1       ,  0.        ],\n",
       "       [ 4.3       ,  2.527     ,  1.        ,  0.1       ,  0.        ],\n",
       "       [ 4.3       ,  3.054     ,  1.        ,  0.1       ,  0.        ],\n",
       "       [ 4.3       ,  3.054     ,  1.        ,  0.1       ,  0.        ],\n",
       "       [ 4.3       ,  3.054     ,  1.        ,  0.1       ,  0.        ],\n",
       "       [ 5.07166667,  3.727     ,  1.        ,  0.1       ,  0.        ],\n",
       "       [ 4.3       ,  3.054     ,  1.        ,  0.1       ,  0.        ],\n",
       "       [ 4.3       ,  3.054     ,  1.        ,  0.1       ,  0.        ],\n",
       "       [ 4.3       ,  2.527     ,  1.        ,  0.1       ,  0.        ],\n",
       "       [ 4.3       ,  3.054     ,  1.        ,  0.1       ,  0.        ],\n",
       "       [ 5.07166667,  3.054     ,  1.        ,  0.1       ,  0.        ],\n",
       "       [ 4.3       ,  3.054     ,  1.        ,  0.1       ,  0.        ],\n",
       "       [ 4.3       ,  2.527     ,  1.        ,  0.1       ,  0.        ],\n",
       "       [ 4.3       ,  2.527     ,  1.        ,  0.1       ,  0.        ],\n",
       "       [ 5.07166667,  3.727     ,  1.        ,  0.1       ,  0.        ],\n",
       "       [ 5.07166667,  3.727     ,  1.        ,  0.1       ,  0.        ],\n",
       "       [ 5.07166667,  3.727     ,  1.        ,  0.1       ,  0.        ],\n",
       "       [ 5.07166667,  3.054     ,  1.        ,  0.1       ,  0.        ],\n",
       "       [ 5.07166667,  3.727     ,  1.        ,  0.1       ,  0.        ],\n",
       "       [ 5.07166667,  3.727     ,  1.        ,  0.1       ,  0.        ],\n",
       "       [ 5.07166667,  3.054     ,  1.        ,  0.1       ,  0.        ],\n",
       "       [ 5.07166667,  3.054     ,  1.        ,  0.1       ,  0.        ],\n",
       "       [ 4.3       ,  3.054     ,  1.        ,  0.1       ,  0.        ],\n",
       "       [ 5.07166667,  3.054     ,  1.        ,  0.1       ,  0.        ],\n",
       "       [ 4.3       ,  3.054     ,  1.        ,  0.1       ,  0.        ],\n",
       "       [ 4.3       ,  2.527     ,  1.        ,  0.1       ,  0.        ],\n",
       "       [ 4.3       ,  3.054     ,  1.        ,  0.1       ,  0.        ],\n",
       "       [ 5.07166667,  3.054     ,  1.        ,  0.1       ,  0.        ],\n",
       "       [ 5.07166667,  3.054     ,  1.        ,  0.1       ,  0.        ],\n",
       "       [ 4.3       ,  3.054     ,  1.        ,  0.1       ,  0.        ],\n",
       "       [ 4.3       ,  3.054     ,  1.        ,  0.1       ,  0.        ],\n",
       "       [ 5.07166667,  3.054     ,  1.        ,  0.1       ,  0.        ],\n",
       "       [ 5.07166667,  3.727     ,  1.        ,  0.1       ,  0.        ],\n",
       "       [ 5.07166667,  3.727     ,  1.        ,  0.1       ,  0.        ],\n",
       "       [ 4.3       ,  3.054     ,  1.        ,  0.1       ,  0.        ],\n",
       "       [ 4.3       ,  3.054     ,  1.        ,  0.1       ,  0.        ],\n",
       "       [ 5.07166667,  3.054     ,  1.        ,  0.1       ,  0.        ],\n",
       "       [ 4.3       ,  3.054     ,  1.        ,  0.1       ,  0.        ],\n",
       "       [ 4.3       ,  2.527     ,  1.        ,  0.1       ,  0.        ],\n",
       "       [ 5.07166667,  3.054     ,  1.        ,  0.1       ,  0.        ],\n",
       "       [ 4.3       ,  3.054     ,  1.        ,  0.1       ,  0.        ],\n",
       "       [ 4.3       ,  2.        ,  1.        ,  0.1       ,  0.        ],\n",
       "       [ 4.3       ,  3.054     ,  1.        ,  0.1       ,  0.        ],\n",
       "       [ 4.3       ,  3.054     ,  1.        ,  0.1       ,  0.        ],\n",
       "       [ 5.07166667,  3.727     ,  1.        ,  0.1       ,  0.        ],\n",
       "       [ 4.3       ,  2.527     ,  1.        ,  0.1       ,  0.        ],\n",
       "       [ 5.07166667,  3.727     ,  1.        ,  0.1       ,  0.        ],\n",
       "       [ 4.3       ,  3.054     ,  1.        ,  0.1       ,  0.        ],\n",
       "       [ 5.07166667,  3.054     ,  1.        ,  0.1       ,  0.        ],\n",
       "       [ 4.3       ,  3.054     ,  1.        ,  0.1       ,  0.        ],\n",
       "       [ 6.87166667,  3.054     ,  3.75866667,  1.19866667,  1.        ],\n",
       "       [ 5.84333333,  3.054     ,  3.75866667,  1.19866667,  1.        ],\n",
       "       [ 6.87166667,  3.054     ,  3.75866667,  1.19866667,  1.        ],\n",
       "       [ 5.07166667,  2.        ,  3.75866667,  1.19866667,  1.        ],\n",
       "       [ 5.84333333,  2.527     ,  3.75866667,  1.19866667,  1.        ],\n",
       "       [ 5.07166667,  2.527     ,  3.75866667,  1.19866667,  1.        ],\n",
       "       [ 5.84333333,  3.054     ,  3.75866667,  1.19866667,  1.        ],\n",
       "       [ 4.3       ,  2.        ,  2.37933333,  0.64933333,  1.        ],\n",
       "       [ 5.84333333,  2.527     ,  3.75866667,  1.19866667,  1.        ],\n",
       "       [ 5.07166667,  2.527     ,  3.75866667,  1.19866667,  1.        ],\n",
       "       [ 4.3       ,  2.        ,  2.37933333,  0.64933333,  1.        ],\n",
       "       [ 5.84333333,  2.527     ,  3.75866667,  1.19866667,  1.        ],\n",
       "       [ 5.84333333,  2.        ,  3.75866667,  0.64933333,  1.        ],\n",
       "       [ 5.84333333,  2.527     ,  3.75866667,  1.19866667,  1.        ],\n",
       "       [ 5.07166667,  2.527     ,  2.37933333,  1.19866667,  1.        ],\n",
       "       [ 5.84333333,  3.054     ,  3.75866667,  1.19866667,  1.        ],\n",
       "       [ 5.07166667,  2.527     ,  3.75866667,  1.19866667,  1.        ],\n",
       "       [ 5.07166667,  2.527     ,  3.75866667,  0.64933333,  1.        ],\n",
       "       [ 5.84333333,  2.        ,  3.75866667,  1.19866667,  1.        ],\n",
       "       [ 5.07166667,  2.        ,  3.75866667,  0.64933333,  1.        ],\n",
       "       [ 5.84333333,  3.054     ,  3.75866667,  1.19866667,  1.        ],\n",
       "       [ 5.84333333,  2.527     ,  3.75866667,  1.19866667,  1.        ],\n",
       "       [ 5.84333333,  2.        ,  3.75866667,  1.19866667,  1.        ],\n",
       "       [ 5.84333333,  2.527     ,  3.75866667,  1.19866667,  1.        ],\n",
       "       [ 5.84333333,  2.527     ,  3.75866667,  1.19866667,  1.        ],\n",
       "       [ 5.84333333,  2.527     ,  3.75866667,  1.19866667,  1.        ],\n",
       "       [ 5.84333333,  2.527     ,  3.75866667,  1.19866667,  1.        ],\n",
       "       [ 5.84333333,  2.527     ,  3.75866667,  1.19866667,  1.        ],\n",
       "       [ 5.84333333,  2.527     ,  3.75866667,  1.19866667,  1.        ],\n",
       "       [ 5.07166667,  2.527     ,  2.37933333,  0.64933333,  1.        ],\n",
       "       [ 5.07166667,  2.        ,  3.75866667,  0.64933333,  1.        ],\n",
       "       [ 5.07166667,  2.        ,  2.37933333,  0.64933333,  1.        ],\n",
       "       [ 5.07166667,  2.527     ,  3.75866667,  1.19866667,  1.        ],\n",
       "       [ 5.84333333,  2.527     ,  3.75866667,  1.19866667,  1.        ],\n",
       "       [ 5.07166667,  2.527     ,  3.75866667,  1.19866667,  1.        ],\n",
       "       [ 5.84333333,  3.054     ,  3.75866667,  1.19866667,  1.        ],\n",
       "       [ 5.84333333,  3.054     ,  3.75866667,  1.19866667,  1.        ],\n",
       "       [ 5.84333333,  2.        ,  3.75866667,  1.19866667,  1.        ],\n",
       "       [ 5.07166667,  2.527     ,  3.75866667,  1.19866667,  1.        ],\n",
       "       [ 5.07166667,  2.        ,  3.75866667,  1.19866667,  1.        ],\n",
       "       [ 5.07166667,  2.527     ,  3.75866667,  1.19866667,  1.        ],\n",
       "       [ 5.84333333,  2.527     ,  3.75866667,  1.19866667,  1.        ],\n",
       "       [ 5.07166667,  2.527     ,  3.75866667,  1.19866667,  1.        ],\n",
       "       [ 4.3       ,  2.        ,  2.37933333,  0.64933333,  1.        ],\n",
       "       [ 5.07166667,  2.527     ,  3.75866667,  1.19866667,  1.        ],\n",
       "       [ 5.07166667,  2.527     ,  3.75866667,  1.19866667,  1.        ],\n",
       "       [ 5.07166667,  2.527     ,  3.75866667,  1.19866667,  1.        ],\n",
       "       [ 5.84333333,  2.527     ,  3.75866667,  1.19866667,  1.        ],\n",
       "       [ 5.07166667,  2.        ,  2.37933333,  0.64933333,  1.        ],\n",
       "       [ 5.07166667,  2.527     ,  3.75866667,  1.19866667,  1.        ],\n",
       "       [ 5.84333333,  3.054     ,  5.32933333,  1.84933333,  2.        ],\n",
       "       [ 5.07166667,  2.527     ,  3.75866667,  1.84933333,  2.        ],\n",
       "       [ 6.87166667,  2.527     ,  5.32933333,  1.84933333,  2.        ],\n",
       "       [ 5.84333333,  2.527     ,  5.32933333,  1.19866667,  2.        ],\n",
       "       [ 5.84333333,  2.527     ,  5.32933333,  1.84933333,  2.        ],\n",
       "       [ 6.87166667,  2.527     ,  5.32933333,  1.84933333,  2.        ],\n",
       "       [ 4.3       ,  2.        ,  3.75866667,  1.19866667,  2.        ],\n",
       "       [ 6.87166667,  2.527     ,  5.32933333,  1.19866667,  2.        ],\n",
       "       [ 5.84333333,  2.        ,  5.32933333,  1.19866667,  2.        ],\n",
       "       [ 6.87166667,  3.054     ,  5.32933333,  1.84933333,  2.        ],\n",
       "       [ 5.84333333,  3.054     ,  3.75866667,  1.84933333,  2.        ],\n",
       "       [ 5.84333333,  2.527     ,  3.75866667,  1.84933333,  2.        ],\n",
       "       [ 5.84333333,  2.527     ,  5.32933333,  1.84933333,  2.        ],\n",
       "       [ 5.07166667,  2.        ,  3.75866667,  1.84933333,  2.        ],\n",
       "       [ 5.07166667,  2.527     ,  3.75866667,  1.84933333,  2.        ],\n",
       "       [ 5.84333333,  3.054     ,  3.75866667,  1.84933333,  2.        ],\n",
       "       [ 5.84333333,  2.527     ,  5.32933333,  1.19866667,  2.        ],\n",
       "       [ 6.87166667,  3.727     ,  5.32933333,  1.84933333,  2.        ],\n",
       "       [ 6.87166667,  2.527     ,  5.32933333,  1.84933333,  2.        ],\n",
       "       [ 5.84333333,  2.        ,  3.75866667,  1.19866667,  2.        ],\n",
       "       [ 6.87166667,  3.054     ,  5.32933333,  1.84933333,  2.        ],\n",
       "       [ 5.07166667,  2.527     ,  3.75866667,  1.84933333,  2.        ],\n",
       "       [ 6.87166667,  2.527     ,  5.32933333,  1.84933333,  2.        ],\n",
       "       [ 5.84333333,  2.527     ,  3.75866667,  1.19866667,  2.        ],\n",
       "       [ 5.84333333,  3.054     ,  5.32933333,  1.84933333,  2.        ],\n",
       "       [ 6.87166667,  3.054     ,  5.32933333,  1.19866667,  2.        ],\n",
       "       [ 5.84333333,  2.527     ,  3.75866667,  1.19866667,  2.        ],\n",
       "       [ 5.84333333,  2.527     ,  3.75866667,  1.19866667,  2.        ],\n",
       "       [ 5.84333333,  2.527     ,  5.32933333,  1.84933333,  2.        ],\n",
       "       [ 6.87166667,  2.527     ,  5.32933333,  1.19866667,  2.        ],\n",
       "       [ 6.87166667,  2.527     ,  5.32933333,  1.84933333,  2.        ],\n",
       "       [ 6.87166667,  3.727     ,  5.32933333,  1.84933333,  2.        ],\n",
       "       [ 5.84333333,  2.527     ,  5.32933333,  1.84933333,  2.        ],\n",
       "       [ 5.84333333,  2.527     ,  3.75866667,  1.19866667,  2.        ],\n",
       "       [ 5.84333333,  2.527     ,  5.32933333,  1.19866667,  2.        ],\n",
       "       [ 6.87166667,  2.527     ,  5.32933333,  1.84933333,  2.        ],\n",
       "       [ 5.84333333,  3.054     ,  5.32933333,  1.84933333,  2.        ],\n",
       "       [ 5.84333333,  3.054     ,  5.32933333,  1.19866667,  2.        ],\n",
       "       [ 5.84333333,  2.527     ,  3.75866667,  1.19866667,  2.        ],\n",
       "       [ 6.87166667,  3.054     ,  5.32933333,  1.84933333,  2.        ],\n",
       "       [ 5.84333333,  3.054     ,  5.32933333,  1.84933333,  2.        ],\n",
       "       [ 6.87166667,  3.054     ,  3.75866667,  1.84933333,  2.        ],\n",
       "       [ 5.07166667,  2.527     ,  3.75866667,  1.84933333,  2.        ],\n",
       "       [ 5.84333333,  3.054     ,  5.32933333,  1.84933333,  2.        ],\n",
       "       [ 5.84333333,  3.054     ,  5.32933333,  1.84933333,  2.        ],\n",
       "       [ 5.84333333,  2.527     ,  3.75866667,  1.84933333,  2.        ],\n",
       "       [ 5.84333333,  2.        ,  3.75866667,  1.84933333,  2.        ],\n",
       "       [ 5.84333333,  2.527     ,  3.75866667,  1.84933333,  2.        ],\n",
       "       [ 5.84333333,  3.054     ,  5.32933333,  1.84933333,  2.        ],\n",
       "       [ 5.84333333,  2.527     ,  3.75866667,  1.19866667,  2.        ]])"
      ]
     },
     "execution_count": 3,
     "metadata": {},
     "output_type": "execute_result"
    }
   ],
   "source": [
    "# combining the iris.data and iris.target by concatenation and making a single dataset\n",
    "import numpy as np\n",
    "iris.data=np.concatenate((iris.data,iris.target.reshape(-1,1)),axis=1)\n",
    "iris.data"
   ]
  },
  {
   "cell_type": "code",
   "execution_count": 4,
   "metadata": {
    "collapsed": true
   },
   "outputs": [],
   "source": [
    "def unique_vals(rows, col):\n",
    "    # Find the unique values for a column in a dataset\n",
    "    return set([row[col] for row in rows])"
   ]
  },
  {
   "cell_type": "code",
   "execution_count": 5,
   "metadata": {},
   "outputs": [
    {
     "data": {
      "text/plain": [
       "{4.2999999999999998, 5.0716666666666672, 5.8433333333333337, 6.871666666666667}"
      ]
     },
     "execution_count": 5,
     "metadata": {},
     "output_type": "execute_result"
    }
   ],
   "source": [
    "unique_vals(iris.data,0)\n",
    "#{4.2999999999999998,\n",
    " #5.0716666666666672,\n",
    " #5.8433333333333337,\n",
    " #6.871666666666667}"
   ]
  },
  {
   "cell_type": "code",
   "execution_count": 6,
   "metadata": {},
   "outputs": [
    {
     "data": {
      "text/plain": [
       "{0.0: 50, 1.0: 50, 2.0: 50}"
      ]
     },
     "execution_count": 6,
     "metadata": {},
     "output_type": "execute_result"
    }
   ],
   "source": [
    "\n",
    "def class_counts(rows):\n",
    "    \"\"\"Counts the number of each type of example in a dataset.\"\"\"\n",
    "    counts = {}  # a dictionary of label -> count.\n",
    "    for row in rows:\n",
    "        # in our dataset format, the label is always the last column\n",
    "        label = row[-1]\n",
    "        if label not in counts:\n",
    "            counts[label] = 0\n",
    "        counts[label] += 1\n",
    "    return counts\n",
    "class_counts(iris.data)"
   ]
  },
  {
   "cell_type": "code",
   "execution_count": 7,
   "metadata": {
    "collapsed": true
   },
   "outputs": [],
   "source": [
    "def is_numeric(value):\n",
    "    \"\"\"Test if a value is numeric.\"\"\"\n",
    "    return isinstance(value, int) or isinstance(value, float)"
   ]
  },
  {
   "cell_type": "code",
   "execution_count": 8,
   "metadata": {
    "collapsed": true
   },
   "outputs": [],
   "source": [
    "class Question:\n",
    "    \"\"\"A Question is used to partition a dataset.\n",
    "\n",
    "    This class just records a 'column number' (e.g., 0 for sepal length) and a\n",
    "    'column value' (e.g., 0.6). The 'match' method is used to compare\n",
    "    the feature value in an example to the feature value stored in the\n",
    "    question. See the demo below.\n",
    "    \"\"\"\n",
    "\n",
    "    def __init__(self, column, value):\n",
    "        self.column = column\n",
    "        self.value = value\n",
    "\n",
    "    def match(self, example):\n",
    "        # Compare the feature value in an example to the\n",
    "        # feature value in this question.\n",
    "        val = example[self.column]\n",
    "        if is_numeric(val):\n",
    "            return val >= self.value\n",
    "        else:\n",
    "            return val == self.value\n",
    "\n",
    "    def __repr__(self):\n",
    "        # This is just a helper method to print\n",
    "        # the question in a readable format.\n",
    "        condition = \"==\"\n",
    "        if is_numeric(self.value):\n",
    "            condition = \">=\"\n",
    "        return \"Is %s %s %s?\" % (\n",
    "            iris.feature_names[self.column], condition, str(self.value))"
   ]
  },
  {
   "cell_type": "code",
   "execution_count": 9,
   "metadata": {},
   "outputs": [
    {
     "data": {
      "text/plain": [
       "Is sepal length (cm) >= 3?"
      ]
     },
     "execution_count": 9,
     "metadata": {},
     "output_type": "execute_result"
    }
   ],
   "source": [
    "Question(0, 3)\n",
    "#Is sepal length (cm) == 3?\n",
    "#Question(1,4)\n",
    "#Is sepal length (cm) == 3?"
   ]
  },
  {
   "cell_type": "code",
   "execution_count": 10,
   "metadata": {},
   "outputs": [
    {
     "data": {
      "text/plain": [
       "Is sepal length (cm) >= 5?"
      ]
     },
     "execution_count": 10,
     "metadata": {},
     "output_type": "execute_result"
    }
   ],
   "source": [
    "q=Question(0,5)\n",
    "q"
   ]
  },
  {
   "cell_type": "code",
   "execution_count": 11,
   "metadata": {},
   "outputs": [
    {
     "data": {
      "text/plain": [
       "True"
      ]
     },
     "execution_count": 11,
     "metadata": {},
     "output_type": "execute_result"
    }
   ],
   "source": [
    "example=iris.data[:,0]\n",
    "q.match(example)\n",
    "\n"
   ]
  },
  {
   "cell_type": "code",
   "execution_count": 12,
   "metadata": {
    "collapsed": true
   },
   "outputs": [],
   "source": [
    "def partition(rows, question):\n",
    "    \"\"\"Partitions a dataset.\n",
    "    For each row in the dataset, check if it matches the question/feature to split upon. If\n",
    "    so, add it to 'true rows', otherwise, add it to 'false rows'.\n",
    "    \"\"\"\n",
    "    true_rows, false_rows = [], []\n",
    "    for row in rows:\n",
    "        if question.match(row):\n",
    "            true_rows.append(row)\n",
    "        else:\n",
    "            false_rows.append(row)\n",
    "    return true_rows, false_rows"
   ]
  },
  {
   "cell_type": "code",
   "execution_count": 13,
   "metadata": {},
   "outputs": [
    {
     "data": {
      "text/plain": [
       "[array([ 5.07166667,  3.054     ,  1.        ,  0.1       ,  0.        ]),\n",
       " array([ 5.07166667,  3.727     ,  1.        ,  0.1       ,  0.        ]),\n",
       " array([ 5.07166667,  3.054     ,  1.        ,  0.1       ,  0.        ]),\n",
       " array([ 5.07166667,  3.727     ,  1.        ,  0.1       ,  0.        ]),\n",
       " array([ 5.07166667,  3.727     ,  1.        ,  0.1       ,  0.        ]),\n",
       " array([ 5.07166667,  3.727     ,  1.        ,  0.1       ,  0.        ]),\n",
       " array([ 5.07166667,  3.054     ,  1.        ,  0.1       ,  0.        ]),\n",
       " array([ 5.07166667,  3.727     ,  1.        ,  0.1       ,  0.        ]),\n",
       " array([ 5.07166667,  3.727     ,  1.        ,  0.1       ,  0.        ]),\n",
       " array([ 5.07166667,  3.054     ,  1.        ,  0.1       ,  0.        ]),\n",
       " array([ 5.07166667,  3.054     ,  1.        ,  0.1       ,  0.        ]),\n",
       " array([ 5.07166667,  3.054     ,  1.        ,  0.1       ,  0.        ]),\n",
       " array([ 5.07166667,  3.054     ,  1.        ,  0.1       ,  0.        ]),\n",
       " array([ 5.07166667,  3.054     ,  1.        ,  0.1       ,  0.        ]),\n",
       " array([ 5.07166667,  3.054     ,  1.        ,  0.1       ,  0.        ]),\n",
       " array([ 5.07166667,  3.727     ,  1.        ,  0.1       ,  0.        ]),\n",
       " array([ 5.07166667,  3.727     ,  1.        ,  0.1       ,  0.        ]),\n",
       " array([ 5.07166667,  3.054     ,  1.        ,  0.1       ,  0.        ]),\n",
       " array([ 5.07166667,  3.054     ,  1.        ,  0.1       ,  0.        ]),\n",
       " array([ 5.07166667,  3.727     ,  1.        ,  0.1       ,  0.        ]),\n",
       " array([ 5.07166667,  3.727     ,  1.        ,  0.1       ,  0.        ]),\n",
       " array([ 5.07166667,  3.054     ,  1.        ,  0.1       ,  0.        ]),\n",
       " array([ 6.87166667,  3.054     ,  3.75866667,  1.19866667,  1.        ]),\n",
       " array([ 5.84333333,  3.054     ,  3.75866667,  1.19866667,  1.        ]),\n",
       " array([ 6.87166667,  3.054     ,  3.75866667,  1.19866667,  1.        ]),\n",
       " array([ 5.07166667,  2.        ,  3.75866667,  1.19866667,  1.        ]),\n",
       " array([ 5.84333333,  2.527     ,  3.75866667,  1.19866667,  1.        ]),\n",
       " array([ 5.07166667,  2.527     ,  3.75866667,  1.19866667,  1.        ]),\n",
       " array([ 5.84333333,  3.054     ,  3.75866667,  1.19866667,  1.        ]),\n",
       " array([ 5.84333333,  2.527     ,  3.75866667,  1.19866667,  1.        ]),\n",
       " array([ 5.07166667,  2.527     ,  3.75866667,  1.19866667,  1.        ]),\n",
       " array([ 5.84333333,  2.527     ,  3.75866667,  1.19866667,  1.        ]),\n",
       " array([ 5.84333333,  2.        ,  3.75866667,  0.64933333,  1.        ]),\n",
       " array([ 5.84333333,  2.527     ,  3.75866667,  1.19866667,  1.        ]),\n",
       " array([ 5.07166667,  2.527     ,  2.37933333,  1.19866667,  1.        ]),\n",
       " array([ 5.84333333,  3.054     ,  3.75866667,  1.19866667,  1.        ]),\n",
       " array([ 5.07166667,  2.527     ,  3.75866667,  1.19866667,  1.        ]),\n",
       " array([ 5.07166667,  2.527     ,  3.75866667,  0.64933333,  1.        ]),\n",
       " array([ 5.84333333,  2.        ,  3.75866667,  1.19866667,  1.        ]),\n",
       " array([ 5.07166667,  2.        ,  3.75866667,  0.64933333,  1.        ]),\n",
       " array([ 5.84333333,  3.054     ,  3.75866667,  1.19866667,  1.        ]),\n",
       " array([ 5.84333333,  2.527     ,  3.75866667,  1.19866667,  1.        ]),\n",
       " array([ 5.84333333,  2.        ,  3.75866667,  1.19866667,  1.        ]),\n",
       " array([ 5.84333333,  2.527     ,  3.75866667,  1.19866667,  1.        ]),\n",
       " array([ 5.84333333,  2.527     ,  3.75866667,  1.19866667,  1.        ]),\n",
       " array([ 5.84333333,  2.527     ,  3.75866667,  1.19866667,  1.        ]),\n",
       " array([ 5.84333333,  2.527     ,  3.75866667,  1.19866667,  1.        ]),\n",
       " array([ 5.84333333,  2.527     ,  3.75866667,  1.19866667,  1.        ]),\n",
       " array([ 5.84333333,  2.527     ,  3.75866667,  1.19866667,  1.        ]),\n",
       " array([ 5.07166667,  2.527     ,  2.37933333,  0.64933333,  1.        ]),\n",
       " array([ 5.07166667,  2.        ,  3.75866667,  0.64933333,  1.        ]),\n",
       " array([ 5.07166667,  2.        ,  2.37933333,  0.64933333,  1.        ]),\n",
       " array([ 5.07166667,  2.527     ,  3.75866667,  1.19866667,  1.        ]),\n",
       " array([ 5.84333333,  2.527     ,  3.75866667,  1.19866667,  1.        ]),\n",
       " array([ 5.07166667,  2.527     ,  3.75866667,  1.19866667,  1.        ]),\n",
       " array([ 5.84333333,  3.054     ,  3.75866667,  1.19866667,  1.        ]),\n",
       " array([ 5.84333333,  3.054     ,  3.75866667,  1.19866667,  1.        ]),\n",
       " array([ 5.84333333,  2.        ,  3.75866667,  1.19866667,  1.        ]),\n",
       " array([ 5.07166667,  2.527     ,  3.75866667,  1.19866667,  1.        ]),\n",
       " array([ 5.07166667,  2.        ,  3.75866667,  1.19866667,  1.        ]),\n",
       " array([ 5.07166667,  2.527     ,  3.75866667,  1.19866667,  1.        ]),\n",
       " array([ 5.84333333,  2.527     ,  3.75866667,  1.19866667,  1.        ]),\n",
       " array([ 5.07166667,  2.527     ,  3.75866667,  1.19866667,  1.        ]),\n",
       " array([ 5.07166667,  2.527     ,  3.75866667,  1.19866667,  1.        ]),\n",
       " array([ 5.07166667,  2.527     ,  3.75866667,  1.19866667,  1.        ]),\n",
       " array([ 5.07166667,  2.527     ,  3.75866667,  1.19866667,  1.        ]),\n",
       " array([ 5.84333333,  2.527     ,  3.75866667,  1.19866667,  1.        ]),\n",
       " array([ 5.07166667,  2.        ,  2.37933333,  0.64933333,  1.        ]),\n",
       " array([ 5.07166667,  2.527     ,  3.75866667,  1.19866667,  1.        ]),\n",
       " array([ 5.84333333,  3.054     ,  5.32933333,  1.84933333,  2.        ]),\n",
       " array([ 5.07166667,  2.527     ,  3.75866667,  1.84933333,  2.        ]),\n",
       " array([ 6.87166667,  2.527     ,  5.32933333,  1.84933333,  2.        ]),\n",
       " array([ 5.84333333,  2.527     ,  5.32933333,  1.19866667,  2.        ]),\n",
       " array([ 5.84333333,  2.527     ,  5.32933333,  1.84933333,  2.        ]),\n",
       " array([ 6.87166667,  2.527     ,  5.32933333,  1.84933333,  2.        ]),\n",
       " array([ 6.87166667,  2.527     ,  5.32933333,  1.19866667,  2.        ]),\n",
       " array([ 5.84333333,  2.        ,  5.32933333,  1.19866667,  2.        ]),\n",
       " array([ 6.87166667,  3.054     ,  5.32933333,  1.84933333,  2.        ]),\n",
       " array([ 5.84333333,  3.054     ,  3.75866667,  1.84933333,  2.        ]),\n",
       " array([ 5.84333333,  2.527     ,  3.75866667,  1.84933333,  2.        ]),\n",
       " array([ 5.84333333,  2.527     ,  5.32933333,  1.84933333,  2.        ]),\n",
       " array([ 5.07166667,  2.        ,  3.75866667,  1.84933333,  2.        ]),\n",
       " array([ 5.07166667,  2.527     ,  3.75866667,  1.84933333,  2.        ]),\n",
       " array([ 5.84333333,  3.054     ,  3.75866667,  1.84933333,  2.        ]),\n",
       " array([ 5.84333333,  2.527     ,  5.32933333,  1.19866667,  2.        ]),\n",
       " array([ 6.87166667,  3.727     ,  5.32933333,  1.84933333,  2.        ]),\n",
       " array([ 6.87166667,  2.527     ,  5.32933333,  1.84933333,  2.        ]),\n",
       " array([ 5.84333333,  2.        ,  3.75866667,  1.19866667,  2.        ]),\n",
       " array([ 6.87166667,  3.054     ,  5.32933333,  1.84933333,  2.        ]),\n",
       " array([ 5.07166667,  2.527     ,  3.75866667,  1.84933333,  2.        ]),\n",
       " array([ 6.87166667,  2.527     ,  5.32933333,  1.84933333,  2.        ]),\n",
       " array([ 5.84333333,  2.527     ,  3.75866667,  1.19866667,  2.        ]),\n",
       " array([ 5.84333333,  3.054     ,  5.32933333,  1.84933333,  2.        ]),\n",
       " array([ 6.87166667,  3.054     ,  5.32933333,  1.19866667,  2.        ]),\n",
       " array([ 5.84333333,  2.527     ,  3.75866667,  1.19866667,  2.        ]),\n",
       " array([ 5.84333333,  2.527     ,  3.75866667,  1.19866667,  2.        ]),\n",
       " array([ 5.84333333,  2.527     ,  5.32933333,  1.84933333,  2.        ]),\n",
       " array([ 6.87166667,  2.527     ,  5.32933333,  1.19866667,  2.        ]),\n",
       " array([ 6.87166667,  2.527     ,  5.32933333,  1.84933333,  2.        ]),\n",
       " array([ 6.87166667,  3.727     ,  5.32933333,  1.84933333,  2.        ]),\n",
       " array([ 5.84333333,  2.527     ,  5.32933333,  1.84933333,  2.        ]),\n",
       " array([ 5.84333333,  2.527     ,  3.75866667,  1.19866667,  2.        ]),\n",
       " array([ 5.84333333,  2.527     ,  5.32933333,  1.19866667,  2.        ]),\n",
       " array([ 6.87166667,  2.527     ,  5.32933333,  1.84933333,  2.        ]),\n",
       " array([ 5.84333333,  3.054     ,  5.32933333,  1.84933333,  2.        ]),\n",
       " array([ 5.84333333,  3.054     ,  5.32933333,  1.19866667,  2.        ]),\n",
       " array([ 5.84333333,  2.527     ,  3.75866667,  1.19866667,  2.        ]),\n",
       " array([ 6.87166667,  3.054     ,  5.32933333,  1.84933333,  2.        ]),\n",
       " array([ 5.84333333,  3.054     ,  5.32933333,  1.84933333,  2.        ]),\n",
       " array([ 6.87166667,  3.054     ,  3.75866667,  1.84933333,  2.        ]),\n",
       " array([ 5.07166667,  2.527     ,  3.75866667,  1.84933333,  2.        ]),\n",
       " array([ 5.84333333,  3.054     ,  5.32933333,  1.84933333,  2.        ]),\n",
       " array([ 5.84333333,  3.054     ,  5.32933333,  1.84933333,  2.        ]),\n",
       " array([ 5.84333333,  2.527     ,  3.75866667,  1.84933333,  2.        ]),\n",
       " array([ 5.84333333,  2.        ,  3.75866667,  1.84933333,  2.        ]),\n",
       " array([ 5.84333333,  2.527     ,  3.75866667,  1.84933333,  2.        ]),\n",
       " array([ 5.84333333,  3.054     ,  5.32933333,  1.84933333,  2.        ]),\n",
       " array([ 5.84333333,  2.527     ,  3.75866667,  1.19866667,  2.        ])]"
      ]
     },
     "execution_count": 13,
     "metadata": {},
     "output_type": "execute_result"
    }
   ],
   "source": [
    "# Let's partition the training data based on whether rows are Red.\n",
    "true_rows, false_rows = partition(iris.data,q)\n",
    "# This will contain all the rows with sepal length >=5, which was condition for q.\n",
    "true_rows"
   ]
  },
  {
   "cell_type": "code",
   "execution_count": 14,
   "metadata": {
    "collapsed": true
   },
   "outputs": [],
   "source": [
    "def gini(rows):\n",
    "    \"\"\"Calculate the Gini Impurity for a list of rows.\"\"\"\n",
    "    counts = class_counts(rows)\n",
    "    impurity = 1\n",
    "    for lbl in counts:\n",
    "        prob_of_lbl = counts[lbl] / float(len(rows))\n",
    "        impurity -= prob_of_lbl**2\n",
    "    return impurity\n",
    "#no_mixing = [['Apple'],\n",
    "#              ['Apple']]\n",
    "# this will return 0\n",
    "#gini(no_mixing)\n",
    "# output=0"
   ]
  },
  {
   "cell_type": "code",
   "execution_count": 15,
   "metadata": {
    "collapsed": true
   },
   "outputs": [],
   "source": [
    "def info_gain(left, right, current_uncertainty):\n",
    "    \n",
    "   #Information Gain-The uncertainty of the starting node, minus the weighted impurity oftwo child nodes.\n",
    "    # gives us the inforation gain for a split \n",
    "    \n",
    "    p = float(len(left)) / (len(left) + len(right))\n",
    "    return current_uncertainty - p * gini(left) - (1 - p) * gini(right)"
   ]
  },
  {
   "cell_type": "code",
   "execution_count": 16,
   "metadata": {},
   "outputs": [
    {
     "data": {
      "text/plain": [
       "0.6666666666666665"
      ]
     },
     "execution_count": 16,
     "metadata": {},
     "output_type": "execute_result"
    }
   ],
   "source": [
    "current_uncertainty = gini(iris.data)\n",
    "current_uncertainty # uncertainity of our current data"
   ]
  },
  {
   "cell_type": "code",
   "execution_count": 17,
   "metadata": {
    "collapsed": true
   },
   "outputs": [],
   "source": [
    "def find_best_split(rows):\n",
    "    \n",
    "    #Find the best question to ask by iterating over every feature and calculating the information gain.\n",
    "    \n",
    "    best_gain = 0  # keeps track of the best information gain\n",
    "    best_question = None  # keeps track of the feature that produced it\n",
    "    current_uncertainty = gini(rows)\n",
    "    n_features = len(rows[0]) - 1  # number of columns\n",
    "\n",
    "    for col in range(n_features):  # for each feature\n",
    "\n",
    "        values = set([row[col] for row in rows])  # unique values in the column\n",
    "\n",
    "        for val in values:  # for each value\n",
    "\n",
    "            question = Question(col, val)\n",
    "\n",
    "            # try splitting the dataset\n",
    "            true_rows, false_rows = partition(rows, question)\n",
    "\n",
    "            # Skip this split if it doesn't divide the\n",
    "            # dataset.\n",
    "            if len(true_rows) == 0 or len(false_rows) == 0:\n",
    "                continue\n",
    "\n",
    "            # Calculate the information gain from this split\n",
    "            gain = info_gain(true_rows, false_rows, current_uncertainty)\n",
    "\n",
    "            if gain >= best_gain:\n",
    "                best_gain, best_question = gain, question\n",
    "\n",
    "    return best_gain, best_question, current_uncertainty"
   ]
  },
  {
   "cell_type": "code",
   "execution_count": 18,
   "metadata": {},
   "outputs": [
    {
     "name": "stdout",
     "output_type": "stream",
     "text": [
      "Is petal width (cm) >= 0.649333333333?\n",
      "current gini= 0.6666666666666665\n",
      "information gain = 0.3333333333333332\n"
     ]
    }
   ],
   "source": [
    "# Find the best question to ask first for iris dataset in the beginning.\n",
    "best_gain, best_question,Gini = find_best_split(iris.data)\n",
    "print(best_question)\n",
    "print(\"current gini=\",Gini)\n",
    "print(\"information gain =\",best_gain)\n"
   ]
  },
  {
   "cell_type": "code",
   "execution_count": 19,
   "metadata": {
    "collapsed": true
   },
   "outputs": [],
   "source": [
    "class Leaf:\n",
    "    \n",
    "    def __init__(self, rows):\n",
    "        self.predictions = class_counts(rows)"
   ]
  },
  {
   "cell_type": "code",
   "execution_count": 20,
   "metadata": {
    "collapsed": true
   },
   "outputs": [],
   "source": [
    "class Decision_Node:\n",
    "    \n",
    "    def __init__(self,\n",
    "                 question,\n",
    "                 true_branch,\n",
    "                 false_branch,gain,Gini):\n",
    "        self.question = question\n",
    "        self.true_branch = true_branch\n",
    "        self.false_branch = false_branch\n",
    "        self.gain=gain\n",
    "        self.Gini=Gini"
   ]
  },
  {
   "cell_type": "code",
   "execution_count": 21,
   "metadata": {
    "collapsed": true
   },
   "outputs": [],
   "source": [
    "def build_tree(rows):\n",
    "    gain, question,Gini = find_best_split(rows)\n",
    "\n",
    "    if gain == 0:\n",
    "        return Leaf(rows)\n",
    "    \n",
    "    true_rows, false_rows = partition(rows, question)\n",
    "\n",
    "    # Recursively build the true branch.\n",
    "    true_branch = build_tree(true_rows)\n",
    "\n",
    "    # Recursively build the false branch.\n",
    "    false_branch = build_tree(false_rows)\n",
    "\n",
    "    return Decision_Node(question, true_branch, false_branch,gain,Gini)"
   ]
  },
  {
   "cell_type": "code",
   "execution_count": 22,
   "metadata": {},
   "outputs": [],
   "source": [
    "def print_tree(node,level, spacing=\"\"):\n",
    "    \n",
    "    print(spacing+\"Level=\",level)\n",
    "    # Base case: we've reached a leaf\n",
    "    if isinstance(node, Leaf):\n",
    "        print (spacing + \"(Leaf Node)  Predict\", node.predictions)\n",
    "        return\n",
    "    # follows the in-order traversal of tree \n",
    "    print(spacing + \"current gini is \" + str(node.Gini))\n",
    "    # Print the question at this node\n",
    "    print(spacing + str(node.question) + \" information gain on this split=\"+ str(node.gain))\n",
    "    print()\n",
    "    # Call this function recursively on the true branch\n",
    "    print(spacing + '| True:')\n",
    "    print_tree(node.true_branch,level+1, spacing + \"  \")\n",
    "    print()\n",
    "    # Call this function recursively on the false branch\n",
    "    print(spacing + '| False:')\n",
    "    print_tree(node.false_branch,level+1, spacing + \"  \")"
   ]
  },
  {
   "cell_type": "code",
   "execution_count": 23,
   "metadata": {},
   "outputs": [],
   "source": [
    "my_tree = build_tree(iris.data)"
   ]
  },
  {
   "cell_type": "code",
   "execution_count": 24,
   "metadata": {},
   "outputs": [
    {
     "name": "stdout",
     "output_type": "stream",
     "text": [
      "Level= 0\n",
      "current gini is 0.6666666666666665\n",
      "Is petal width (cm) >= 0.649333333333? information gain on this split=0.3333333333333332\n",
      "\n",
      "| True:\n",
      "  Level= 1\n",
      "  current gini is 0.5\n",
      "  Is petal width (cm) >= 1.84933333333? information gain on this split=0.25757575757575757\n",
      "\n",
      "  | True:\n",
      "    Level= 2\n",
      "    (Leaf Node)  Predict {2.0: 34}\n",
      "\n",
      "  | False:\n",
      "    Level= 2\n",
      "    current gini is 0.36730945821854916\n",
      "    Is petal length (cm) >= 5.32933333333? information gain on this split=0.15832304233558142\n",
      "\n",
      "    | True:\n",
      "      Level= 3\n",
      "      (Leaf Node)  Predict {2.0: 8}\n",
      "\n",
      "    | False:\n",
      "      Level= 3\n",
      "      current gini is 0.23781212841854948\n",
      "      Is sepal length (cm) >= 5.84333333333? information gain on this split=0.014531041689186855\n",
      "\n",
      "      | True:\n",
      "        Level= 4\n",
      "        current gini is 0.33425160697887973\n",
      "        Is sepal width (cm) >= 3.054? information gain on this split=0.028797061524334255\n",
      "\n",
      "        | True:\n",
      "          Level= 5\n",
      "          (Leaf Node)  Predict {1.0: 8}\n",
      "\n",
      "        | False:\n",
      "          Level= 5\n",
      "          current gini is 0.4032\n",
      "          Is petal width (cm) >= 1.19866666667? information gain on this split=0.0065333333333334465\n",
      "\n",
      "          | True:\n",
      "            Level= 6\n",
      "            current gini is 0.41319444444444436\n",
      "            Is sepal width (cm) >= 2.527? information gain on this split=0.0006944444444443448\n",
      "\n",
      "            | True:\n",
      "              Level= 7\n",
      "              (Leaf Node)  Predict {1.0: 14, 2.0: 6}\n",
      "\n",
      "            | False:\n",
      "              Level= 7\n",
      "              (Leaf Node)  Predict {1.0: 3, 2.0: 1}\n",
      "\n",
      "          | False:\n",
      "            Level= 6\n",
      "            (Leaf Node)  Predict {1.0: 1}\n",
      "\n",
      "      | False:\n",
      "        Level= 4\n",
      "        current gini is 0.07680000000000002\n",
      "        Is sepal length (cm) >= 5.07166666667? information gain on this split=0.01680000000000001\n",
      "\n",
      "        | True:\n",
      "          Level= 5\n",
      "          (Leaf Node)  Predict {1.0: 21}\n",
      "\n",
      "        | False:\n",
      "          Level= 5\n",
      "          current gini is 0.375\n",
      "          Is petal width (cm) >= 1.19866666667? information gain on this split=0.375\n",
      "\n",
      "          | True:\n",
      "            Level= 6\n",
      "            (Leaf Node)  Predict {2.0: 1}\n",
      "\n",
      "          | False:\n",
      "            Level= 6\n",
      "            (Leaf Node)  Predict {1.0: 3}\n",
      "\n",
      "| False:\n",
      "  Level= 1\n",
      "  (Leaf Node)  Predict {0.0: 50}\n"
     ]
    }
   ],
   "source": [
    "# required output!\n",
    "\n",
    "print_tree(my_tree,0)"
   ]
  },
  {
   "cell_type": "code",
   "execution_count": null,
   "metadata": {},
   "outputs": [],
   "source": []
  },
  {
   "cell_type": "code",
   "execution_count": null,
   "metadata": {},
   "outputs": [],
   "source": []
  }
 ],
 "metadata": {
  "kernelspec": {
   "display_name": "Python 3",
   "language": "python",
   "name": "python3"
  },
  "language_info": {
   "codemirror_mode": {
    "name": "ipython",
    "version": 3
   },
   "file_extension": ".py",
   "mimetype": "text/x-python",
   "name": "python",
   "nbconvert_exporter": "python",
   "pygments_lexer": "ipython3",
   "version": "3.6.3"
  }
 },
 "nbformat": 4,
 "nbformat_minor": 2
}
